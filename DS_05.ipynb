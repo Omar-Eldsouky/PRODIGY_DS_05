{
 "cells": [
  {
   "cell_type": "code",
   "execution_count": null,
   "metadata": {},
   "outputs": [],
   "source": [
    "import pandas as pd\n",
    "import numpy as np\n",
    "import seaborn as sns\n",
    "import matplotlib.pyplot as plt\n",
    "from datetime import datetime\n",
    "\n",
    "# Load the dataset\n",
    "url = \"/home/kirito/Data Science with prodigy/PRODIGY_DS_05/archive (1)/US_Accidents_March23.csv\"\n",
    "df = pd.read_csv(url)\n",
    "\n",
    "# Display the first few rows of the dataset\n",
    "print(df.head())\n",
    "\n",
    "# Check for missing values\n",
    "missing_values = df.isnull().sum()\n",
    "print(\"Missing values:\\n\", missing_values)\n",
    "\n",
    "# Drop columns with too many missing values or irrelevant information\n",
    "df_cleaned = df.drop(columns=['Unnamed: 0', 'ID', 'Description', 'Number', 'End_Lat', 'End_Lng'])\n",
    "\n",
    "# Handle missing values in the remaining columns (e.g., fill with mode, drop rows, etc.)\n",
    "df_cleaned = df_cleaned.dropna()\n",
    "\n",
    "# Convert relevant columns to appropriate data types\n",
    "df_cleaned['Start_Time'] = pd.to_datetime(df_cleaned['Start_Time'])\n",
    "df_cleaned['End_Time'] = pd.to_datetime(df_cleaned['End_Time'])\n",
    "df_cleaned['Year'] = df_cleaned['Start_Time'].dt.year\n",
    "df_cleaned['Month'] = df_cleaned['Start_Time'].dt.month\n",
    "df_cleaned['Hour'] = df_cleaned['Start_Time'].dt.hour\n",
    "\n",
    "# Display cleaned data\n",
    "print(df_cleaned.head())\n"
   ]
  },
  {
   "cell_type": "code",
   "execution_count": null,
   "metadata": {},
   "outputs": [],
   "source": [
    "# Analyze the distribution of accidents by road condition\n",
    "sns.countplot(y='Weather_Condition', data=df_cleaned, order=df_cleaned['Weather_Condition'].value_counts().iloc[:10].index)\n",
    "plt.title('Distribution of Accidents by Weather Condition')\n",
    "plt.show()\n",
    "\n",
    "# Analyze the distribution of accidents by time of day\n",
    "sns.histplot(df_cleaned['Hour'], bins=24, kde=False)\n",
    "plt.title('Distribution of Accidents by Hour of the Day')\n",
    "plt.xlabel('Hour')\n",
    "plt.ylabel('Number of Accidents')\n",
    "plt.show()\n",
    "\n",
    "# Analyze the distribution of accidents by road condition\n",
    "sns.countplot(y='Road_Condition', data=df_cleaned, order=df_cleaned['Road_Condition'].value_counts().index)\n",
    "plt.title('Distribution of Accidents by Road Condition')\n",
    "plt.show()\n"
   ]
  },
  {
   "cell_type": "code",
   "execution_count": null,
   "metadata": {},
   "outputs": [],
   "source": [
    "import folium\n",
    "from folium.plugins import HeatMap\n",
    "\n",
    "# Create a base map\n",
    "base_map = folium.Map(location=[df_cleaned['Start_Lat'].mean(), df_cleaned['Start_Lng'].mean()], zoom_start=5)\n",
    "\n",
    "# Create a heatmap of accident locations\n",
    "heat_data = [[row['Start_Lat'], row['Start_Lng']] for index, row in df_cleaned.iterrows()]\n",
    "HeatMap(heat_data).add_to(base_map)\n",
    "\n",
    "# Display the map\n",
    "base_map\n"
   ]
  },
  {
   "cell_type": "code",
   "execution_count": null,
   "metadata": {},
   "outputs": [],
   "source": [
    "# Investigate the relationship between weather condition and accident severity\n",
    "severity_by_weather = df_cleaned.groupby('Weather_Condition')['Severity'].mean().sort_values(ascending=False)\n",
    "print(severity_by_weather)\n",
    "\n",
    "# Investigate the relationship between road condition and accident severity\n",
    "severity_by_road = df_cleaned.groupby('Road_Condition')['Severity'].mean().sort_values(ascending=False)\n",
    "print(severity_by_road)\n",
    "\n",
    "# Investigate the relationship between time of day and accident severity\n",
    "severity_by_hour = df_cleaned.groupby('Hour')['Severity'].mean()\n",
    "print(severity_by_hour)\n"
   ]
  },
  {
   "cell_type": "code",
   "execution_count": null,
   "metadata": {},
   "outputs": [],
   "source": [
    "# Bar chart for severity by weather condition\n",
    "severity_by_weather.plot(kind='bar')\n",
    "plt.title('Average Severity by Weather Condition')\n",
    "plt.ylabel('Average Severity')\n",
    "plt.show()\n",
    "\n",
    "# Bar chart for severity by road condition\n",
    "severity_by_road.plot(kind='bar')\n",
    "plt.title('Average Severity by Road Condition')\n",
    "plt.ylabel('Average Severity')\n",
    "plt.show()\n",
    "\n",
    "# Line plot for severity by hour of day\n",
    "severity_by_hour.plot(kind='line')\n",
    "plt.title('Average Severity by Hour of the Day')\n",
    "plt.xlabel('Hour')\n",
    "plt.ylabel('Average Severity')\n",
    "plt.show()\n"
   ]
  }
 ],
 "metadata": {
  "kernelspec": {
   "display_name": "Python 3",
   "language": "python",
   "name": "python3"
  },
  "language_info": {
   "codemirror_mode": {
    "name": "ipython",
    "version": 3
   },
   "file_extension": ".py",
   "mimetype": "text/x-python",
   "name": "python",
   "nbconvert_exporter": "python",
   "pygments_lexer": "ipython3",
   "version": "3.10.12"
  }
 },
 "nbformat": 4,
 "nbformat_minor": 2
}
